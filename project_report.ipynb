{
 "cells": [
  {
   "cell_type": "markdown",
   "id": "b5382cc7",
   "metadata": {},
   "source": [
    "# Project Report \n",
    "# FCP Assignment: Graphical Analysis and Simulation\n",
    "***"
   ]
  },
  {
   "cell_type": "markdown",
   "id": "32e9c9fe",
   "metadata": {},
   "source": [
    "## Overview\n"
   ]
  },
  {
   "cell_type": "markdown",
   "id": "08468053",
   "metadata": {},
   "source": [
    "FCP Assignment: Graphical Analysis and Simulation\n",
    "\n",
    "This project is a joint contribution of the efforts of Tom Mulholland, Dheeraj Polanki, Joe Taylor and Callan O'Brien.\n",
    "\n",
    "The projects foci is on simulations and data relating to the coronavirus epidemic. More specifically, the graphical analysis of Covid data in each of Bristol's MSOAs (Middle Super Output Areas), and a simulation that simulates Covid in a hypothetical setting.\n",
    "\n",
    "The project contains:\n",
    "\n",
    "A main script that runs all the other scripts,\n",
    "\n",
    "A GUI to select which parts of the project you want to access,\n",
    "\n",
    "Argparsing to assist in the formatting of command line interfaces,\n",
    "\n",
    "A choropleth map which plots Covid cases in Bristol,\n",
    "\n",
    "A simulation that simulates Covid,\n",
    "\n",
    "A bar chart race animation displaying Covid Cases in Bristol."
   ]
  },
  {
   "cell_type": "markdown",
   "id": "43721456",
   "metadata": {},
   "source": [
    "## main\n",
    "The main file contained code that allowed the program to be ran and controlled from a terminal.\n",
    "\n",
    "This was done so using the argparse module. When creating an argument the most important thing to think about is the 'action' it takes when called. Each mode of the program had the action of 'store_true' which stores the argument as True if called and False if not. When combined with if statements this allows the correct function to be ran to produce the map or graph the user requested. For the simulation the user had the option to specify the value of variables that govern how it is ran, taking the action of 'dest' saves the given values as an argument that can be called upon in a function that runs the simulation with these values. These arguments also have been set 'default' values that are assigned to them if not specified in the command line."
   ]
  },
  {
   "cell_type": "code",
   "execution_count": null,
   "id": "e4a11189",
   "metadata": {},
   "outputs": [],
   "source": [
    "import argparse\n",
    "from Simulator import Simulator\n",
    "import numpy as np\n",
    "import mapping\n",
    "import User_Interface\n",
    "import bar_chart_race\n",
    "\n",
    "parser = argparse.ArgumentParser(prog= 'main',\n",
    "                                 description= (\"\"\"\n",
    "           ,'/ \\`.\n",
    "          |\\/___\\/|\n",
    "          \\'\\   /`/\n",
    "           `.\\ /,'\n",
    "              |\n",
    "              |\n",
    "             |=|\n",
    "        /\\  ,|=|.  /\\\n",
    "            \n",
    "     '`.  \\/ |=| \\/  ,'`.\n",
    "  ,'    `.|\\ `-' /|,'    `.\n",
    ",'   .-._ \\ `---' / _,-.   `.\n",
    "   ,'    `-`-._,-'-'    `.\n",
    "  '                       `'\n",
    "  Controllable -sim Variables (All 0-100)\"\"\"),epilog='Happy Infecting!',formatter_class=argparse.RawTextHelpFormatter)\n",
    "\n",
    "parser.add_argument('-UI', action='store_true', help='Opens GUI')\n",
    "parser.add_argument('-map', action='store_true', help='Creates choropleth map .gif ')\n",
    "parser.add_argument('-bar', action='store_true', help='Creates bar chart race .mp4')\n",
    "parser.add_argument('-sim', action='store_true', help='Runs simulation. You can either use defualt values or select them individually using, -contagiousness, -recovery, -deadliness')\n",
    "\n",
    "parser.add_argument('-con','--contagiousness', type=int,action='store',default=90,\n",
    "                    dest='infect_percentage',\n",
    "                    help='(default 90, [0-100])The chance of contracting the virus upon contact',)\n",
    "parser.add_argument('-rec','--recovery', type=int,action='store',default=70,\n",
    "                    dest='recover_percentage',\n",
    "                    help='(default 70, [0-100])The chance a person recovers from the virus, lower values increase the time taken to fight off the virus')\n",
    "parser.add_argument('-dead','--deadliness', type=int,action='store',default=1,\n",
    "                    dest='death_percentage',\n",
    "                    help= '(default 1, [0-100])The chance a person dies as a result of the virus, RIP :(')\n",
    "args = parser.parse_args()\n",
    "\n",
    "virus_param_dictionary=vars(args)\n",
    "virus_param_list = list(virus_param_dictionary.values())\n",
    "for i in virus_param_list:\n",
    "    if i<0 or i>100:\n",
    "        raise argparse.ArgumentTypeError('Make sure the your virus has parameter values in the range 0-100')"
   ]
  },
  {
   "cell_type": "markdown",
   "id": "68f6d3aa",
   "metadata": {},
   "source": [
    "The simulation variables must also be checked for validity and converted into a probability for them to work in the simulation function. If the variables are entered incorrectly or an out of range error is presented to the user:"
   ]
  },
  {
   "cell_type": "code",
   "execution_count": null,
   "id": "43594a24",
   "metadata": {},
   "outputs": [],
   "source": [
    "virus_param_dictionary=vars(args)\n",
    "virus_param_list = list(virus_param_dictionary.values())\n",
    "for i in virus_param_list:\n",
    "    if i<0 or i>100:\n",
    "        raise argparse.ArgumentTypeError('Make sure the your virus has parameter values in the range 0-100')\n",
    "\n",
    "def percentage_to_probability(x):\n",
    "    z = (x/100)\n",
    "    return z\n",
    "\n",
    "numberOFpeople = 100\n",
    "radius = np.array([0.03 for i in range(numberOFpeople)])\n",
    "\n",
    "#The is passed when creating the players to make all the players healthy/grey\n",
    "c0l0r = {\"edgecolor\": \"black\", \"linewidth\": 1, \"fill\": True, \"facecolor\":\"grey\"}\n",
    "def sim_in_arg():\n",
    "    infect_probability = percentage_to_probability(args.infect_percentage)\n",
    "    recover_probability = percentage_to_probability(args.recover_percentage)\n",
    "    death_probability = percentage_to_probability(args.death_percentage)\n",
    "    Sim = Simulator.Simulation(numberOFpeople, infect_probability, recover_probability, death_probability, radius, c0l0r)\n",
    "    Sim.do_animation()"
   ]
  },
  {
   "cell_type": "markdown",
   "id": "93f1cd7b",
   "metadata": {},
   "source": [
    "We decided that only one mode of the program should be able at run at a time making each mode mutually exclusive to one another. Therefore, before being called, the commands must pass through another check to see if multiple modes were selected at the same time:"
   ]
  },
  {
   "cell_type": "code",
   "execution_count": null,
   "id": "e37fc432",
   "metadata": {},
   "outputs": [],
   "source": [
    "while True:\n",
    "    if (args.sim and (args.map or args.bar or args.UI)) or (args.map and (args.sim or args.bar or args.UI)) or (args.bar and (args.map or args.sim or args.UI) or (args.UI and (args.sim or args.map or args.bar))):\n",
    "        raise argparse.ArgumentTypeError('Please selct only one of: -UI -sim -map -bar ')\n",
    "        break\n",
    "    if args.UI == True:\n",
    "        User_Interface.runUI()\n",
    "        break\n",
    "    if args.sim == True:\n",
    "        sim_in_arg()\n",
    "        print(vars(args)) #shows values of arguments in command line\n",
    "        break\n",
    "    if args.map == True:\n",
    "        mapping.create_choropleth()\n",
    "        break\n",
    "    if args.bar == True:\n",
    "        bar_chart_race.genBarChart()\n",
    "        break\n",
    "    else:\n",
    "        raise argparse.ArgumentTypeError('please enter a valid mode')\n",
    "        break\n"
   ]
  },
  {
   "cell_type": "markdown",
   "id": "5b10cbad",
   "metadata": {},
   "source": [
    "## Data_processing\n",
    "\n",
    "The project is set on simulations and data relating to COVID. Specifically, the project is about COVID cases in Bristol, seperated via MSOAs (Middle Super Output Area(s)). The data was acquired from the following url:\n",
    "\n",
    "* Number of new covid cases per week for each Middle Super Output Area (MSOA) in Bristol: \n",
    "(https://coronavirus.data.gov.uk/details/download)\n",
    "\n",
    "The data file, covid_data_bristol.csv, has over 4000+ elements listed inside. A lot of these are not necessary for the project, so the data must be formatted and processed into a database that can be easily manipulated:"
   ]
  },
  {
   "cell_type": "code",
   "execution_count": null,
   "id": "8ccd608f",
   "metadata": {},
   "outputs": [],
   "source": [
    "import pandas as pd\n",
    "import numpy as np\n",
    "\n",
    "\n",
    "def create_database():\n",
    "    #Opens the excel csv and assigns it a database to be manipulated\n",
    "    covDataRaw = pd.read_csv('data/covid_data_bristol.csv')\n",
    "    dF = pd.DataFrame(covDataRaw)\n",
    "    #print(dF)\n",
    "    \n",
    "    #Just taking out all the columns of info we do not need\n",
    "    del dF['regionCode']\n",
    "    dF.pop('regionName')\n",
    "    dF.pop('UtlaCode')\n",
    "    dF.pop('UtlaName')\n",
    "    dF.pop('LtlaCode')\n",
    "    dF.pop('LtlaName')\n",
    "    dF.pop('areaType')\n",
    "    \n",
    "    return dF"
   ]
  },
  {
   "cell_type": "markdown",
   "id": "44d06d6a",
   "metadata": {},
   "source": [
    "Through the use of Pandas, a function is created that converts covid_data_bristol.csv into a clean, formatted database for use in other sections of the project. A lot of the 'popped' elements are static repeated elements that have no function."
   ]
  },
  {
   "cell_type": "markdown",
   "id": "51c62fdf",
   "metadata": {},
   "source": [
    "## Choropleth map\n",
    "\n",
    "I was inspired to create choropleth map (for covid infection rates in bristol) by the sheer ammount that I saw in the news over the course of the Covid-19 pandemic as well as the live map on the government website:\n",
    "\n",
    "(https://coronavirus.data.gov.uk/details/interactive-map/cases).\n",
    "\n",
    "To make this plot I needed two sets of data to ceate the map:\n",
    "\n",
    "* Number of new covid cases per week for each Middle Super Output Area (MSOA) in Bristol \n",
    "(https://coronavirus.data.gov.uk/details/download)\n",
    "* Shapefile that conatins the geometry of Bristol split into its MSOAs \n",
    "(https://opendata.bristol.gov.uk/explore/dataset/msoa11/information/?location=11,51.47093,-2.61604&basemap=jawg.streets)\n",
    "\n",
    "The final output is show in the gif below:"
   ]
  },
  {
   "cell_type": "code",
   "execution_count": 19,
   "id": "fbe513db",
   "metadata": {},
   "outputs": [
    {
     "name": "stdout",
     "output_type": "stream",
     "text": [
      "Creating choropleth map\n",
      "Saved as bristol_covid_map.gif\n"
     ]
    },
    {
     "data": {
      "text/html": [
       "<img src=\"bristol_covid_map.gif\">"
      ],
      "text/plain": [
       "<IPython.core.display.HTML object>"
      ]
     },
     "execution_count": 19,
     "metadata": {},
     "output_type": "execute_result"
    },
    {
     "data": {
      "text/plain": [
       "<Figure size 432x288 with 0 Axes>"
      ]
     },
     "metadata": {},
     "output_type": "display_data"
    }
   ],
   "source": [
    "from mapping import create_choropleth\n",
    "from IPython.display import HTML\n",
    "create_choropleth()\n",
    "HTML('<img src=\"bristol_covid_map.gif\">')\n"
   ]
  },
  {
   "cell_type": "markdown",
   "id": "b4d7fa0e",
   "metadata": {},
   "source": [
    "Viewing this data visually on the map is a really good way of seeing an overview of the pandemic. Each wave when a new variant was discoverd shows very easily when all the zones have a sudden jump in current cases, especially with the highly transmissible Omicron variant in early 2022.\n",
    "\n",
    "It is also very interesting to see the distrubution of these cases with these spikes. The highest rates of new cases are normally in the central regions of the city but also in areas like Redland, Cotham and Clifton where there is a very dense student population. This student population means you can also see spikes in October of 2020 and 2021 when students returned to the city for the new university year. This would mainly be due to the increase of population but also students showing less symptons and therefore bringing cases to the city without realising."
   ]
  },
  {
   "cell_type": "markdown",
   "id": "c32abd26",
   "metadata": {},
   "source": [
    "To create this map two functions are used. The first geodf_create() to create a geodataframe and manipulate it until it's in the correct form to be ingested by geopandas. The second, plot_animation(), will use FuncAnimation to create an animation from the data in geodataframe."
   ]
  },
  {
   "cell_type": "markdown",
   "id": "7fc117bb",
   "metadata": {},
   "source": [
    "geodf_create() first creates a geodataframe from the shapefile, which will store the geometry required for each MSOA. It then strips any unnecessary data and orders the MSOAs by their area code:"
   ]
  },
  {
   "cell_type": "code",
   "execution_count": null,
   "id": "09c68038",
   "metadata": {},
   "outputs": [],
   "source": [
    "import geopandas as gpd\n",
    "msoa_bristol = gpd.read_file(r'data/bristol_msoa11_map_data/msoa11.shp')\n",
    "\n",
    "msoa_bristol.pop('lacd')\n",
    "msoa_bristol.pop('area_m2')\n",
    "msoa_bristol.pop('perimeter_m')\n",
    "msoa_bristol.pop('mi_prinx')\n",
    "msoa_bristol.pop('objectid')\n",
    "msoa_bristol.pop('msoa11nm')\n",
    "\n",
    "msoa11cd_end = []\n",
    "for msoa11cd in msoa_bristol['msoa11cd'].values:\n",
    "    msoa11cd_end.append(msoa11cd[-4:])\n",
    "\n",
    "msoa_bristol['msoa11cd_end'] = msoa11cd_end\n",
    "msoa_cases_ordered = msoa_bristol.sort_values(by=['msoa11cd_end'])\n",
    "msoa_cases_ordered.pop('msoa11cd_end')\n",
    "msoa_cases_ordered = msoa_cases_ordered.rename(columns = {'msoa11cd':'areaCodes'})\n",
    "\n",
    "print(msoa_cases_ordered.head(5))\n",
    "print('.....')\n",
    "print('.....')\n",
    "print(msoa_cases_ordered.tail(5))"
   ]
  },
  {
   "cell_type": "markdown",
   "id": "e45cf264",
   "metadata": {},
   "source": [
    "It then calls create_database() from data_processing.py to import a cleaned dataframe of the covid data for Bristol. All uneeded data is then removed:"
   ]
  },
  {
   "cell_type": "code",
   "execution_count": null,
   "id": "3b2f93d9",
   "metadata": {},
   "outputs": [],
   "source": [
    "\n",
    "import data_processing as dp\n",
    "covid_data = dp.create_database()\n",
    "\n",
    "covid_data.pop('areaName')\n",
    "covid_data.pop('newCasesBySpecimenDateChange')\n",
    "covid_data.pop('newCasesBySpecimenDateChangePercentage')\n",
    "covid_data.pop('newCasesBySpecimenDateDirection')\n",
    "covid_data.pop('newCasesBySpecimenDateRollingRate')\n",
    "\n",
    "print(covid_data)"
   ]
  },
  {
   "cell_type": "markdown",
   "id": "f2fc783e",
   "metadata": {},
   "source": [
    "Two lists are created, one with every date a reading was taken and another with each area code:"
   ]
  },
  {
   "cell_type": "code",
   "execution_count": null,
   "id": "33338a9b",
   "metadata": {},
   "outputs": [],
   "source": [
    "unique_dates = []\n",
    "for date in covid_data['date']:\n",
    "    if date not in unique_dates:\n",
    "        unique_dates.append(date)\n",
    "unique_dates.reverse()\n",
    "\n",
    "unique_area_codes = []\n",
    "for area_code in covid_data['areaCode']:\n",
    "    if area_code not in unique_area_codes:\n",
    "        unique_area_codes.append(area_code) \n",
    "\n",
    "print(f'unique dates = {unique_dates}\\n')\n",
    "print(f'unique area codes = {unique_area_codes}')"
   ]
  },
  {
   "cell_type": "markdown",
   "id": "78a78cf4",
   "metadata": {},
   "source": [
    "Geopandas requires your data for each date to be in its own columns but the .csv downloaded contains data for each date in multiple rows. This means we have to sort through the data.\n",
    "The loop below iterates through the list of dates and then finds all data for the selected date. The area code linked to each data point is found and using this and the data point; Its put in the correct place in a clean dataframe. After each iteration of the date, the data frame is copied to the same variable name to remove de-fragmentation."
   ]
  },
  {
   "cell_type": "markdown",
   "id": "32c435ab",
   "metadata": {},
   "source": [
    "Once the loop is finished all empty spaces in the dataframe are given a zero value and its then merged with the geometry data to give us the final geodataframe:"
   ]
  },
  {
   "cell_type": "code",
   "execution_count": null,
   "id": "caf2c0b5",
   "metadata": {},
   "outputs": [],
   "source": [
    "import pandas as pd\n",
    "\n",
    "unique_data = {'areaCodes': unique_area_codes}\n",
    "\n",
    "cases_columns = pd.DataFrame(unique_data)\n",
    "\n",
    "cases_columns_index_list= cases_columns.index.tolist()\n",
    "\n",
    "areacode_index_dict = dict(zip(unique_area_codes, cases_columns_index_list))\n",
    "\n",
    "for date in unique_dates:\n",
    "    index_count = 0\n",
    "    for covid_data_date in covid_data['date'].values:\n",
    "        if date == covid_data_date:\n",
    "\n",
    "            current_area_code = covid_data.at[index_count, 'areaCode']\n",
    "            cases_columns_index = areacode_index_dict[current_area_code]\n",
    "            cases_columns.at[cases_columns_index, date] = covid_data.at[index_count, 'newCasesBySpecimenDateRollingSum']\n",
    "        cases_columns = cases_columns.copy()\n",
    "        index_count += 1\n",
    "\n",
    "cases_columns = cases_columns.fillna(0)\n",
    "\n",
    "msoa_cases_ordered = msoa_cases_ordered.merge(cases_columns)\n",
    "\n",
    "print(msoa_cases_ordered.head(5))"
   ]
  },
  {
   "cell_type": "markdown",
   "id": "5701bb84",
   "metadata": {},
   "source": [
    "plot_animation() then takes this geodataframe and the list of dates and iterates through each data to create each frame for the animation. It will then save this animation as a gif:"
   ]
  },
  {
   "cell_type": "code",
   "execution_count": null,
   "id": "b06ed7f4",
   "metadata": {},
   "outputs": [],
   "source": [
    "vmin, vmax = 0, 350\n",
    "color_map = 'Reds'\n",
    "divider = make_axes_locatable(ax)\n",
    "cax = divider.append_axes('right', size='5%', pad=0.1)\n",
    "\n",
    "def animate(i):\n",
    "    ax.clear()\n",
    "    geo_df.plot(column = dates[i], cmap = color_map, ax=ax, figsize=(10,10), linewidth=0.6, edgecolor = 'black', vmin=vmin, vmax=vmax, legend=True, cax=cax)\n",
    "    ax.set_title(f'Number of new cases in week beginning {dates[i]}', fontdict={'fontsize': '15', 'fontweight' : '3'})\n",
    "    ax.set_axis_off()\n",
    "\n",
    "\n",
    "ani = FuncAnimation(fig, animate, interval=200, repeat=False, blit=False)\n",
    "\n",
    "plt.close()\n",
    "ani.save('bristol_covid_map.gif', dpi=300)"
   ]
  },
  {
   "cell_type": "markdown",
   "id": "6c2d1a35",
   "metadata": {},
   "source": [
    "Both the functions broken down above are then added to the create_choropleth() function along with some print statements to show the status of the code to the user. This allows the whole process to be called in any other file with only one function:"
   ]
  },
  {
   "cell_type": "code",
   "execution_count": null,
   "id": "132c4eea",
   "metadata": {},
   "outputs": [],
   "source": [
    "def create_choropleth():\n",
    "    print('Creating choropleth map')\n",
    "    geodf, dates = geodf_create()\n",
    "    ani = plot_animation(geodf, dates)\n",
    "    print('Saved as bristol_covid_map.gif')"
   ]
  },
  {
   "cell_type": "markdown",
   "id": "7d2abb08",
   "metadata": {},
   "source": [
    "## Covid simulation\n",
    "\n",
    "The Covid Simulation generates a playground (box) of 100 people (circles) and infects 1 random person in the playground. The simulation needs 3 inputs infection_percentage, recover_percentage and death_percentage.\n",
    "\n",
    "This type of simulation also shows how herd immunity works, a person cannot be infected because the people around them are immune. \n",
    "\n",
    "The Simulation class generates the playground and plots all 100 people using the Person class in random locations inside the box and assigns them random velocities with a \"healthy\" status and a radius of r:\n"
   ]
  },
  {
   "cell_type": "code",
   "execution_count": null,
   "id": "4f05c2c4",
   "metadata": {},
   "outputs": [],
   "source": [
    "Simulation(numberOFpeople, infect_probability, recover_probability, death_probability, radius, c0l0r)"
   ]
  },
  {
   "cell_type": "markdown",
   "id": "a9938abb",
   "metadata": {},
   "source": [
    "Where:\n",
    "\n",
    "numberOFpeople = 100,\n",
    "\n",
    "infect_probability, recover_probability and death_probability can be any number,\n",
    "\n",
    "radius = np.array([0.03 for i in range(numberOFpeople)]),\n",
    "\n",
    "c0l0r = {\"edgecolor\": \"black\", \"linewidth\": 1, \"fill\": True, \"facecolor\":\"grey\"}.\n",
    "\n",
    "These values can be changed, however, the most optimal setting is:\n",
    "\n",
    "numberOFpeople=100,\n",
    "\n",
    "radius=np.array([0.03 for i in range(numberOFpeople)]).\n",
    "\n",
    "When the simulation class is called the numberOFpeople, radius and c0l0r are given as inputs to the init_particles function"
   ]
  },
  {
   "cell_type": "code",
   "execution_count": null,
   "id": "c84fd6d6",
   "metadata": {},
   "outputs": [],
   "source": [
    "def init_particles(self, population, radius, c0l0r):\n",
    "    \"\"\"\n",
    "    Generates the people for the simulation.\n",
    "    \"\"\"\n",
    "\n",
    "    self.population = population\n",
    "    self.people = []\n",
    "    for i, radius1 in enumerate(radius):\n",
    "        key = i\n",
    "        # Try to find a random initial position for this person.\n",
    "        while not self.place_Person(radius1, c0l0r, key):\n",
    "            #print(\"person added\")\n",
    "            pass\n",
    "    self.start_infection()"
   ]
  },
  {
   "cell_type": "markdown",
   "id": "89b3453f",
   "metadata": {},
   "source": [
    "This function calls the function place_Person(radius, c0l0ur, key) which generates random x & y coordinates and xv & yv velocities for the person and plots them on the graph using the Person Class. If a generated position is on top of an already existing player a new postion is generated.\n",
    "\n",
    "Warning: The xv & yv velocities should not be tampered with. If the velocities are too high the people will go out of the playground(box) in between each frame or overlap and start glitching."
   ]
  },
  {
   "cell_type": "code",
   "execution_count": null,
   "id": "ada08da4",
   "metadata": {},
   "outputs": [],
   "source": [
    "def place_Person(self, radius1, c0l0r, key):\n",
    "    \"\"\"\n",
    "    Positions and velocities are chosen randomly, if a generated position overlaps\n",
    "    with another person on the gird a new position is generated.\n",
    "    \"\"\"\n",
    "\n",
    "    # Generates random x, y so that the person is inside the grid\n",
    "    x = radius1 + (1 - 2*radius1) * np.random.random()\n",
    "    y = radius1 + (1 - 2*radius1) * np.random.random()\n",
    "    # Generates a random velocity for the Person (low enough so the players dont merge into each other or move out of the gird between frames).\n",
    "    constant = 0.05 + (np.sqrt(np.random.random())*0.1)\n",
    "    #constant = 0.1 * np.sqrt(np.random.random()) + 0.1  for faster movement\n",
    "    random_hypo = (np.random.random()*6)\n",
    "    # Using the Hypotenuse generates x and y velocities\n",
    "    vx = constant * np.cos(random_hypo)\n",
    "    vy = constant * np.sin(random_hypo)\n",
    "    stat = \"healthy\"\n",
    "    player = self.PersonClass(key, x, y, vx, vy, stat, radius1, c0l0r)\n",
    "    # Check that the person doesn't overlap with one that\"s already been placed.\n",
    "    #print(f\"Location:({x},{y})\")\n",
    "    #print(f\"Velocity{player.vx}, {player.vy}\")\n",
    "    for person in self.people:\n",
    "        if person.on_top(player):\n",
    "            break\n",
    "    else:\n",
    "        self.people.append(player)\n",
    "        return True\n",
    "    return False"
   ]
  },
  {
   "cell_type": "markdown",
   "id": "7d63ad90",
   "metadata": {},
   "source": [
    "After all the 100 people are ploted inside the box a random player is infected using the start_infection() function. This function also clears the list used for plotting a line graph"
   ]
  },
  {
   "cell_type": "code",
   "execution_count": null,
   "id": "c88dd427",
   "metadata": {},
   "outputs": [],
   "source": [
    "def start_infection(self):\n",
    "\n",
    "    self.healthy_list.clear()\n",
    "    self.infected_list.clear()\n",
    "    self.immune_list.clear()\n",
    "    self.dead_list.clear()\n",
    "\n",
    "    for i in self.people:\n",
    "        self.healthy_list.append(i)\n",
    "        # i.status = \"healthy\"\n",
    "    # Infects a random person\n",
    "\n",
    "    c = np.random.randint(1,self.population)\n",
    "    self.people[c].infected()\n",
    "    self.people[c].status = \"infected\"\n",
    "    self.healthy_list.remove(self.people[c])\n",
    "    self.infected_list.append(self.people[c])"
   ]
  },
  {
   "cell_type": "markdown",
   "id": "fa4d9623",
   "metadata": {},
   "source": [
    "setup_animation() generates:\n",
    "\n",
    "1) 2 subplots, 1 for the playground(box) and another for the line graph,\n",
    "\n",
    "2) Sets the axis limits for each subplot, \n",
    "\n",
    "3) Creates variables for the line graph,\n",
    "\n",
    "4) Creates a new window using the Tkinter module which displays the 2 subplots next to each other.\n",
    "\n",
    "The FuncAnimation is ran after the setup_animation()"
   ]
  },
  {
   "cell_type": "code",
   "execution_count": null,
   "id": "09fe36a9",
   "metadata": {},
   "outputs": [],
   "source": [
    "self.anime = FuncAnimation(self.fig, self.animate, save_count = 1000,\n",
    "                              interval=1, blit=True, init_func=self.init, repeat=False)"
   ]
  },
  {
   "cell_type": "markdown",
   "id": "77820f52",
   "metadata": {},
   "source": [
    "self.fig contains  the 2 subplots\n",
    "\n",
    "In every frame self.animate calls advance_animation() and updates the line graph and the playground.\n",
    "advance_animation() moves all the people and if 2 people overlap, their velocities will be changed accordingly, if one of the 2 people are infected the chance of the other healthy person getting infected is infect_probability.\n",
    "Every 10th frame there is a chance for some people to either get 'immune' or 'die', this depends on the recover_probability and death_probability.\n",
    "\n",
    "1 Day = 10 Frames\n",
    "So everyday day theres a chance of someone dying or recovering.\n",
    "\n",
    "After 100 days of simulation is an image of the playground and the line graph is saved as an image"
   ]
  },
  {
   "cell_type": "markdown",
   "id": "d03f4660",
   "metadata": {},
   "source": [
    "## Bar_chart_race\n",
    "\n",
    "Using the data from covid_bristol_data.csv (the formatted version acquired through calling the function in data_processing), a Bar Chart Race (bcr) plot is created.\n",
    "\n",
    "A bar chart race was considered the most appropriate plot to make, even statically (as a compromise). The inspiration for the bar chart race came from needing to animate each date and sequence values as it's almost impossible to plot regularly (it looks far too chaotic).\n",
    "\n",
    "Secondly, the data plotted shows the new cases (values defined as 'rolling rate' context:covid), in each of Bristols MSOAs that were recorded on that respective date.\n",
    "\n",
    "\n",
    "To begin the modules must be imported:"
   ]
  },
  {
   "cell_type": "code",
   "execution_count": null,
   "id": "a7f4b1b5",
   "metadata": {},
   "outputs": [],
   "source": [
    "# Import Pandas for data base manipulation\n",
    "# Import dataprocessing - the processed original data script/database.\n",
    "# Import matplotlib to make plot and animated data\n",
    "import pandas as pd\n",
    "import data_processing as dp\n",
    "import matplotlib.pyplot as plt\n",
    "from matplotlib.animation import FuncAnimation"
   ]
  },
  {
   "cell_type": "markdown",
   "id": "0d9867a4",
   "metadata": {},
   "source": [
    "With the modules imported, a database must be created and formatted to be ready for plotting:"
   ]
  },
  {
   "cell_type": "code",
   "execution_count": null,
   "id": "ce28133f",
   "metadata": {},
   "outputs": [],
   "source": [
    "# Creating the database and popping all unused values, to clean the database\n",
    "# and ready it for formatting.\n",
    "infectData = dp.create_database()\n",
    "infectData.pop(\"areaCode\")\n",
    "infectData.pop(\"newCasesBySpecimenDateChange\")\n",
    "infectData.pop(\"newCasesBySpecimenDateChangePercentage\")\n",
    "infectData.pop(\"newCasesBySpecimenDateDirection\")\n",
    "infectData.pop(\"newCasesBySpecimenDateRollingSum\")\n",
    "infectData.sort_index()\n",
    "\n",
    "# Uses the to_datetime function to create an ordered date sequence for the\n",
    "# values to plot appropriately\n",
    "infectData[\"date\"] = pd.to_datetime(infectData[\"date\"])\n",
    "infectData.sort_values(by=\"date\")\n",
    "\n",
    "# groupData is a formatted database, reindexing the values from infectData\n",
    "# and turning it into a wide-date table so it can be turned into a bcr.\n",
    "groupData = infectData.pivot_table(values=\"newCasesBySpecimenDateRollingRate\"\n",
    "                                   , index=\"date\", columns=\"areaName\")\n",
    "\n",
    "\n",
    "# Cleaning corrupted data\n",
    "groupData = groupData.drop(\"Redland & St Andrew's\", axis=1)\n",
    "\n",
    "# Fills all NaN values with 0 and sorts the index of groupData.\n",
    "groupData.fillna(0, inplace=True)\n",
    "df = groupData.sort_index()\n",
    "\n",
    "# Locates the positions based on length in groupData and counts the\n",
    "# cumulative sum and updates the database respectively.\n",
    "df.iloc[:, 0:-1] = groupData.iloc[:, 0:-1].cumsum()"
   ]
  },
  {
   "cell_type": "markdown",
   "id": "6c7d1e2e",
   "metadata": {},
   "source": [
    "A database 'infectData' is created by calling the function created in 'data_processing', it is then stripped of irrelevant data and sorted.\n",
    "The 'date' column is then formatted as an index for the data to follow using the 'to_datetime' function, and then sorted by date.\n",
    "'groupData' is the wide-formatted database that takes the properties of 'infectData' and reindexes/pivots them through the '.pivot_table' function.\n",
    "Lastly, the database is cleaned up with any missing values replaced with zeros, and updated with the cumulative sum of each element via the '.iloc' function and corresponding position in a new database 'df' for easier naming.\n",
    "\n",
    "Now that there is a clean, formatted database, it can be plotted using matplot lib and eventually animated."
   ]
  },
  {
   "cell_type": "code",
   "execution_count": null,
   "id": "0171ad94",
   "metadata": {},
   "outputs": [],
   "source": [
    "# This function sorts and sets the axes\n",
    "def setAxes(ax):\n",
    "    # ax.set_facecolor('.8')\n",
    "    ax.tick_params(labelsize=10, length=0)\n",
    "    # Disables Gridline\n",
    "    ax.grid(True, axis='x', color='white')\n",
    "    # Set axis below\n",
    "    ax.set_axisbelow(True)\n",
    "    [spine.set_visible(True) for spine in ax.spines.values()]\n",
    "   \n",
    "\n",
    "\n",
    "# Getting data ready to plot\n",
    "def ready_data(df):\n",
    "    df = df.reset_index()\n",
    "\n",
    "    last_idx = df.index[-1] + 1\n",
    "    ready_width = df.reindex(range(last_idx))\n",
    "    ready_width['date'] = ready_width['date'].fillna(method='ffill')\n",
    "    ready_width = ready_width.set_index('date')\n",
    "    # Setting a colour for each palce\n",
    "    ready_y = ready_width.rank(axis=1, method='first')\n",
    "    return ready_width, ready_y\n",
    "\n",
    "ready_width, ready_y = ready_data(df)\n",
    "\n",
    "\n",
    "labels = ready_width.columns\n",
    "colors = plt.cm.Dark2(range(6))\n"
   ]
  },
  {
   "cell_type": "markdown",
   "id": "792d7e7f",
   "metadata": {},
   "source": [
    "A function called 'setAxes' passes a variable ax which contains the properties for the axis. The function creates a label using '.tick_params' by changing the appearance of ticks. 'ax.grid' and its paramaters disable the gridlines and lastly, an axis is setup with all of the axis spines (border of plot area).\n",
    "\n",
    "Similarly, there is a function for preparing the data for plotting. The function 'ready_data' has the formatted database (df = groupData) as an argument. It resets the index of the database, organises the index and creates a 'ready_width' variable which takes the 'date' and formats it as the x axis the data plots against. 'ready_y' returns a rank of every index of a passing date, the parameter 'method='first'' is how it sorts those values. Lastly they are assigned as label(s) and assigned a colour map.\n",
    "\n",
    "As there is too much data to handle for a single static graph, the plot needed to be animated, so matplotlib was utilised further to format the bar-plots to work in animation."
   ]
  },
  {
   "cell_type": "code",
   "execution_count": null,
   "id": "e35c0d88",
   "metadata": {},
   "outputs": [],
   "source": [
    "def update(i):\n",
    "    ax.clear()\n",
    "    for line in ax.containers:\n",
    "        line.remove()\n",
    "    y = ready_y.iloc[i]\n",
    "    width = ready_width.iloc[i]\n",
    "    # Plotting bar graph\n",
    "    ax.barh(y=y, width=width, color=colors, tick_label=labels)\n",
    "    #Plotting the title and date\n",
    "    date_str = ready_width.index[i].strftime('%d-%m-%Y')\n",
    "    ax.set_title(f'Covid Cases in Bristol by Date (Rolling Rate) - {date_str}', fontsize='smaller')\n",
    "    ax.set_ylim(44.5,54.5)\n",
    "    return ax\n",
    "\n",
    "# Setting the figure size\n",
    "fig = plt.figure(figsize=(17, 6))\n",
    "ax = fig.add_subplot(1, 1, 1)\n",
    "print('Your gif is now being created, please wait...')"
   ]
  },
  {
   "cell_type": "markdown",
   "id": "10b3c4bb",
   "metadata": {},
   "source": [
    "For the BCR, a function called 'update' is created. \n",
    "The function takes argument 'i', cleans the axis with '.clear()' and removing the parameters 'line' from 'ax.containers'. It assigns the y-axis as 'ready_y' using location 'i' - same applies to x axis 'width'. The bar chart is then plotted using the '.barh' function called from matplotlib with its respective parameters. The dates are formatted into Date/Month/Year and a title and bar limit is set (Top ten bars) so not all the bars are present at once.\n",
    "\n",
    "The figure size is set and suplots are added.\n",
    "\n",
    "All that's left is to animate the bar chart:"
   ]
  },
  {
   "cell_type": "code",
   "execution_count": null,
   "id": "d68e04c6",
   "metadata": {},
   "outputs": [],
   "source": [
    "def genBarChart():\n",
    "    anim = FuncAnimation(fig=fig, func=update, frames=len(ready_width), \n",
    "                     interval=200, repeat=False)\n",
    "\n",
    "\n",
    "    anim.save(\"bar_chart.gif\")\n",
    "    print('Saved as bar_chart.gif')"
   ]
  },
  {
   "cell_type": "markdown",
   "id": "9d6a2cc5",
   "metadata": {},
   "source": [
    "The last process involves animating the bar chart.\n",
    "A function 'genBarChart' is created that stores the variable 'anim' which is effectively responsible for the animation. By using matplotlib's FuncAnimation and its parameters, a bar chart race plot is created.\n",
    "\n",
    "The figure in FuncAnimation is set to the established figure, the function that plots the bar charts per interval and enough frames to accomodate the width of the index.\n",
    "\n",
    "Finally the function saves the bar chart race plot animation as a gif.\n",
    "\n",
    "Below is the final output/bar_chart_race animation.gif:"
   ]
  },
  {
   "cell_type": "code",
   "execution_count": 6,
   "id": "3ad64066",
   "metadata": {},
   "outputs": [
    {
     "name": "stdout",
     "output_type": "stream",
     "text": [
      "Saved as bar_chart.gif\n"
     ]
    },
    {
     "data": {
      "text/html": [
       "<img src=\"bar_chart.gif\">"
      ],
      "text/plain": [
       "<IPython.core.display.HTML object>"
      ]
     },
     "execution_count": 6,
     "metadata": {},
     "output_type": "execute_result"
    }
   ],
   "source": [
    "from bar_chart_race import genBarChart\n",
    "from IPython.display import HTML\n",
    "genBarChart()\n",
    "HTML('<img src=\"bar_chart.gif\">')"
   ]
  },
  {
   "cell_type": "markdown",
   "id": "ff9984b8",
   "metadata": {},
   "source": [
    "## User interface\n",
    "\n",
    "Using Tkinter makes it easier for the user to navigiate and find what the user wants and the user can input values for the simulation like the infection_percentage, recover_percentage and death_percentage. The user can view simulation, bar chart and the choropleth map in the Tkinter window.\n",
    "\n",
    "In the User_Interface.py each page is in its own class.\n",
    "There are 4 Pages in total.\n",
    "\n",
    "1) Main Page - Has buttons for the user to choose between Sim Page, Map Page, and Bar Page.\n",
    "\n",
    "2) Sim Page  - This page has entry boxes for the user to input infection_percentage, recover_percentage & death_percentage. \n",
    "               The sumulation can be run by clicking on the Start Simulation button.\n",
    "               \n",
    "3) Map Page  - This page displays the Chloroplet Map frame by frame and the user can choose which frame to view by moving the                  slider below.\n",
    "\n",
    "4) Bar Page  - This page displays the Bar Chart frame by frame and the user can choose which frame to view by moving the                        slider below.\n",
    "\n",
    "Each page has the \"Return to home button\" which takes the user back to the Main Page where the user can again select a different page.\n",
    "\n",
    "The Application can be started by importing User_Interface and calling the function runUI()."
   ]
  },
  {
   "cell_type": "code",
   "execution_count": null,
   "id": "2921d830",
   "metadata": {},
   "outputs": [],
   "source": [
    "import User_Interface as UI\n",
    "\n",
    "UI.runUI()"
   ]
  }
 ],
 "metadata": {
  "kernelspec": {
   "display_name": "Python 3",
   "language": "python",
   "name": "python3"
  },
  "language_info": {
   "codemirror_mode": {
    "name": "ipython",
    "version": 3
   },
   "file_extension": ".py",
   "mimetype": "text/x-python",
   "name": "python",
   "nbconvert_exporter": "python",
   "pygments_lexer": "ipython3",
   "version": "3.8.8"
  }
 },
 "nbformat": 4,
 "nbformat_minor": 5
}
